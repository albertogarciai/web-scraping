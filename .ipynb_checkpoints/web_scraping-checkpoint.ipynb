{
 "cells": [
  {
   "cell_type": "code",
   "execution_count": null,
   "id": "b16668a7-8443-4952-836f-bc496c6266a8",
   "metadata": {},
   "outputs": [
    {
     "name": "stderr",
     "output_type": "stream",
     "text": [
      "Procesando años:   0%|                              | 0/51 [00:00<?, ?it/s]\n",
      "\u001b[Acesando meses de 1974:   0%|                     | 0/12 [00:00<?, ?it/s]"
     ]
    },
    {
     "name": "stdout",
     "output_type": "stream",
     "text": [
      "[<td> </td>, <td class=\"tc2\">2.1</td>, <td class=\"tc3\">7.4</td>, <td class=\"tc4\">-2.1</td>, <td class=\"tc5\">1021.1</td>, <td class=\"tc6\">70.2</td>, <td class=\"tc7\"><span>83.83</span></td>, <td class=\"tc8\">14.1</td>, <td class=\"tc9\">14.2</td>, <td class=\"tc10\">24.8</td>, <td> </td>, <td>14</td>, <td>4</td>, <td>0</td>, <td>16</td>]\n"
     ]
    },
    {
     "name": "stderr",
     "output_type": "stream",
     "text": [
      "\n",
      "\u001b[Acesando meses de 1974:   8%|█            | 1/12 [00:02<00:23,  2.14s/it]"
     ]
    },
    {
     "name": "stdout",
     "output_type": "stream",
     "text": [
      "[<td> </td>, <td class=\"tc2\">0.2</td>, <td class=\"tc3\">6.9</td>, <td class=\"tc4\">-5.2</td>, <td class=\"tc5\">1015.2</td>, <td class=\"tc6\">57.3</td>, <td class=\"tc7\"><span>48.76</span></td>, <td class=\"tc8\">18.7</td>, <td class=\"tc9\">19.3</td>, <td class=\"tc10\">29.9</td>, <td> </td>, <td>11</td>, <td>11</td>, <td>2</td>, <td>5</td>]\n"
     ]
    },
    {
     "name": "stderr",
     "output_type": "stream",
     "text": [
      "\n",
      "\u001b[Acesando meses de 1974:  17%|██▏          | 2/12 [00:04<00:21,  2.14s/it]"
     ]
    },
    {
     "name": "stdout",
     "output_type": "stream",
     "text": [
      "[<td> </td>, <td class=\"tc2\">6.5</td>, <td class=\"tc3\">13.3</td>, <td class=\"tc4\">0.4</td>, <td class=\"tc5\">1014.9</td>, <td class=\"tc6\">55.4</td>, <td class=\"tc7\"><span>144.02</span></td>, <td class=\"tc8\">21.3</td>, <td class=\"tc9\">20.7</td>, <td class=\"tc10\">33</td>, <td> </td>, <td>17</td>, <td>5</td>, <td>2</td>, <td>11</td>]\n"
     ]
    },
    {
     "name": "stderr",
     "output_type": "stream",
     "text": [
      "\n",
      "\u001b[Acesando meses de 1974:  25%|███▎         | 3/12 [00:06<00:19,  2.15s/it]"
     ]
    },
    {
     "name": "stdout",
     "output_type": "stream",
     "text": [
      "[<td> </td>, <td class=\"tc2\">13.1</td>, <td class=\"tc3\">20.5</td>, <td class=\"tc4\">6</td>, <td class=\"tc5\">1015.4</td>, <td class=\"tc6\">54.6</td>, <td class=\"tc7\"><span>80.51</span></td>, <td class=\"tc8\">20.3</td>, <td class=\"tc9\">19.3</td>, <td class=\"tc10\">31.3</td>, <td> </td>, <td>12</td>, <td>1</td>, <td>2</td>, <td>8</td>]\n"
     ]
    },
    {
     "name": "stderr",
     "output_type": "stream",
     "text": [
      "\n",
      "\u001b[Acesando meses de 1974:  33%|████▎        | 4/12 [00:08<00:17,  2.14s/it]"
     ]
    },
    {
     "name": "stdout",
     "output_type": "stream",
     "text": [
      "[<td> </td>, <td class=\"tc2\">16.9</td>, <td class=\"tc3\">24.3</td>, <td class=\"tc4\">10.5</td>, <td class=\"tc5\">1014.2</td>, <td class=\"tc6\">55.2</td>, <td class=\"tc7\"><span>89.66</span></td>, <td class=\"tc8\">18.8</td>, <td class=\"tc9\">16.8</td>, <td class=\"tc10\">28.6</td>, <td> </td>, <td>17</td>, <td>0</td>, <td>4</td>, <td>7</td>]\n"
     ]
    },
    {
     "name": "stderr",
     "output_type": "stream",
     "text": [
      "\n",
      "\u001b[Acesando meses de 1974:  42%|█████▍       | 5/12 [00:10<00:14,  2.14s/it]"
     ]
    },
    {
     "name": "stdout",
     "output_type": "stream",
     "text": [
      "[<td> </td>, <td class=\"tc2\">21</td>, <td class=\"tc3\">27.6</td>, <td class=\"tc4\">15.3</td>, <td class=\"tc5\">1014.8</td>, <td class=\"tc6\">65.9</td>, <td class=\"tc7\"><span>117.1</span></td>, <td class=\"tc8\">13.6</td>, <td class=\"tc9\">15.8</td>, <td class=\"tc10\">26.4</td>, <td> </td>, <td>18</td>, <td>0</td>, <td>4</td>, <td>17</td>]\n"
     ]
    },
    {
     "name": "stderr",
     "output_type": "stream",
     "text": [
      "\n",
      "\u001b[Acesando meses de 1974:  50%|██████▌      | 6/12 [00:12<00:12,  2.14s/it]"
     ]
    },
    {
     "name": "stdout",
     "output_type": "stream",
     "text": [
      "[<td> </td>, <td class=\"tc2\">24.9</td>, <td class=\"tc3\">31.3</td>, <td class=\"tc4\">18.4</td>, <td class=\"tc5\">1016</td>, <td class=\"tc6\">60.2</td>, <td class=\"tc7\"><span>75.96</span></td>, <td class=\"tc8\">16.2</td>, <td class=\"tc9\">14.3</td>, <td class=\"tc10\">24.2</td>, <td> </td>, <td>8</td>, <td>0</td>, <td>4</td>, <td>11</td>]\n"
     ]
    },
    {
     "name": "stderr",
     "output_type": "stream",
     "text": [
      "\n",
      "\u001b[Acesando meses de 1974:  58%|███████▌     | 7/12 [00:14<00:10,  2.14s/it]"
     ]
    },
    {
     "name": "stdout",
     "output_type": "stream",
     "text": [
      "[<td> </td>, <td class=\"tc2\">24.4</td>, <td class=\"tc3\">30.4</td>, <td class=\"tc4\">19</td>, <td class=\"tc5\">1018.8</td>, <td class=\"tc6\">67.7</td>, <td class=\"tc7\"><span>135.14</span></td>, <td class=\"tc8\">12.9</td>, <td class=\"tc9\">13.7</td>, <td class=\"tc10\">23.5</td>, <td> </td>, <td>13</td>, <td>0</td>, <td>6</td>, <td>14</td>]\n"
     ]
    },
    {
     "name": "stderr",
     "output_type": "stream",
     "text": [
      "\n",
      "\u001b[Acesando meses de 1974:  67%|████████▋    | 8/12 [00:17<00:08,  2.14s/it]"
     ]
    },
    {
     "name": "stdout",
     "output_type": "stream",
     "text": [
      "[<td> </td>, <td class=\"tc2\">20</td>, <td class=\"tc3\">26.2</td>, <td class=\"tc4\">14.5</td>, <td class=\"tc5\">1017.9</td>, <td class=\"tc6\">69.8</td>, <td class=\"tc7\"><span>135.62</span></td>, <td class=\"tc8\">15.4</td>, <td class=\"tc9\">14.2</td>, <td class=\"tc10\">23.8</td>, <td> </td>, <td>13</td>, <td>0</td>, <td>7</td>, <td>17</td>]\n"
     ]
    },
    {
     "name": "stderr",
     "output_type": "stream",
     "text": [
      "\n",
      "\u001b[Acesando meses de 1974:  75%|█████████▊   | 9/12 [00:19<00:06,  2.13s/it]"
     ]
    },
    {
     "name": "stdout",
     "output_type": "stream",
     "text": [
      "[<td> </td>, <td class=\"tc2\">12.3</td>, <td class=\"tc3\">19.9</td>, <td class=\"tc4\">5.4</td>, <td class=\"tc5\">1023.3</td>, <td class=\"tc6\">62.1</td>, <td class=\"tc7\"><span>49.02</span></td>, <td class=\"tc8\">20.4</td>, <td class=\"tc9\">13.5</td>, <td class=\"tc10\">22</td>, <td> </td>, <td>6</td>, <td>0</td>, <td>1</td>, <td>7</td>]\n"
     ]
    },
    {
     "name": "stderr",
     "output_type": "stream",
     "text": [
      "\n",
      "\u001b[Acesando meses de 1974:  83%|██████████  | 10/12 [00:21<00:04,  2.13s/it]"
     ]
    },
    {
     "name": "stdout",
     "output_type": "stream",
     "text": [
      "[<td> </td>, <td class=\"tc2\">9.1</td>, <td class=\"tc3\">15.8</td>, <td class=\"tc4\">3.2</td>, <td class=\"tc5\">1017.4</td>, <td class=\"tc6\">61.1</td>, <td class=\"tc7\"><span>28.97</span></td>, <td class=\"tc8\">20.4</td>, <td class=\"tc9\">15.8</td>, <td class=\"tc10\">25.1</td>, <td> </td>, <td>11</td>, <td>1</td>, <td>1</td>, <td>9</td>]\n"
     ]
    },
    {
     "name": "stderr",
     "output_type": "stream",
     "text": [
      "\n",
      "\u001b[Acesando meses de 1974:  92%|███████████ | 11/12 [00:23<00:02,  2.13s/it]"
     ]
    },
    {
     "name": "stdout",
     "output_type": "stream",
     "text": [
      "[<td> </td>, <td class=\"tc2\">4.4</td>, <td class=\"tc3\">9.6</td>, <td class=\"tc4\">-0.5</td>, <td class=\"tc5\">1016.9</td>, <td class=\"tc6\">66.5</td>, <td class=\"tc7\"><span>120.16</span></td>, <td class=\"tc8\">18.8</td>, <td class=\"tc9\">15.9</td>, <td class=\"tc10\">27.5</td>, <td> </td>, <td>11</td>, <td>2</td>, <td>1</td>, <td>10</td>]\n"
     ]
    },
    {
     "name": "stderr",
     "output_type": "stream",
     "text": [
      "\n",
      "\u001b[Acesando meses de 1974: 100%|████████████| 12/12 [00:25<00:00,  2.13s/it]\n",
      "Procesando años:   2%|▍                     | 1/51 [00:25<21:20, 25.61s/it]\n",
      "\u001b[Acesando meses de 1975:   0%|                     | 0/12 [00:00<?, ?it/s]"
     ]
    },
    {
     "name": "stdout",
     "output_type": "stream",
     "text": [
      "[<td> </td>, <td class=\"tc2\">2.9</td>, <td class=\"tc3\">9.2</td>, <td class=\"tc4\">-2.6</td>, <td class=\"tc5\">1019.4</td>, <td class=\"tc6\"><span>68.8</span></td>, <td class=\"tc7\"><span>124.21</span></td>, <td class=\"tc8\">17.8</td>, <td class=\"tc9\">16.3</td>, <td class=\"tc10\">27.9</td>, <td> </td>, <td>16</td>, <td>8</td>, <td>1</td>, <td>15</td>]\n"
     ]
    },
    {
     "name": "stderr",
     "output_type": "stream",
     "text": [
      "\n",
      "\u001b[Acesando meses de 1975:   8%|█            | 1/12 [00:02<00:23,  2.13s/it]"
     ]
    },
    {
     "name": "stdout",
     "output_type": "stream",
     "text": [
      "[<td> </td>, <td class=\"tc2\">2.2</td>, <td class=\"tc3\">7.5</td>, <td class=\"tc4\">-3.1</td>, <td class=\"tc5\">1018.2</td>, <td class=\"tc6\"><span>65.8</span></td>, <td class=\"tc7\"><span>70.37</span></td>, <td class=\"tc8\">18.7</td>, <td class=\"tc9\">16</td>, <td class=\"tc10\">28.1</td>, <td> </td>, <td>11</td>, <td>7</td>, <td>0</td>, <td>11</td>]\n"
     ]
    },
    {
     "name": "stderr",
     "output_type": "stream",
     "text": [
      "\n",
      "\u001b[Acesando meses de 1975:  17%|██▏          | 2/12 [00:04<00:21,  2.14s/it]"
     ]
    },
    {
     "name": "stdout",
     "output_type": "stream",
     "text": [
      "[<td> </td>, <td class=\"tc2\">5.1</td>, <td class=\"tc3\">11.6</td>, <td class=\"tc4\">-0.9</td>, <td class=\"tc5\">1014.7</td>, <td class=\"tc6\">57.8</td>, <td class=\"tc7\"><span>133.36</span></td>, <td class=\"tc8\">22.2</td>, <td class=\"tc9\">18.7</td>, <td class=\"tc10\">29.4</td>, <td> </td>, <td>16</td>, <td>5</td>, <td>1</td>, <td>12</td>]\n"
     ]
    },
    {
     "name": "stderr",
     "output_type": "stream",
     "text": [
      "\n",
      "\u001b[Acesando meses de 1975:  25%|███▎         | 3/12 [00:06<00:19,  2.13s/it]"
     ]
    },
    {
     "name": "stdout",
     "output_type": "stream",
     "text": [
      "[<td> </td>, <td class=\"tc2\">9.1</td>, <td class=\"tc3\">15.8</td>, <td class=\"tc4\">2.1</td>, <td class=\"tc5\">1014.9</td>, <td class=\"tc6\">49.1</td>, <td class=\"tc7\"><span>55.62</span></td>, <td class=\"tc8\">23.3</td>, <td class=\"tc9\">20</td>, <td class=\"tc10\">31.5</td>, <td> </td>, <td>8</td>, <td>3</td>, <td>0</td>, <td>6</td>]\n"
     ]
    },
    {
     "name": "stderr",
     "output_type": "stream",
     "text": [
      "\n",
      "\u001b[Acesando meses de 1975:  33%|████▎        | 4/12 [00:08<00:16,  2.12s/it]"
     ]
    },
    {
     "name": "stdout",
     "output_type": "stream",
     "text": [
      "[<td> </td>, <td class=\"tc2\">18.6</td>, <td class=\"tc3\">25.8</td>, <td class=\"tc4\">12.8</td>, <td class=\"tc5\">1015.4</td>, <td class=\"tc6\">64</td>, <td class=\"tc7\"><span>115.31</span></td>, <td class=\"tc8\">14.9</td>, <td class=\"tc9\">13.2</td>, <td class=\"tc10\">23.3</td>, <td> </td>, <td>14</td>, <td>0</td>, <td>6</td>, <td>17</td>]\n"
     ]
    },
    {
     "name": "stderr",
     "output_type": "stream",
     "text": [
      "\n",
      "\u001b[Acesando meses de 1975:  42%|█████▍       | 5/12 [00:10<00:14,  2.13s/it]"
     ]
    },
    {
     "name": "stdout",
     "output_type": "stream",
     "text": [
      "[<td> </td>, <td class=\"tc2\">22</td>, <td class=\"tc3\">28.4</td>, <td class=\"tc4\">16.7</td>, <td class=\"tc5\">1016.8</td>, <td class=\"tc6\">70.7</td>, <td class=\"tc7\"><span>197.87</span></td>, <td class=\"tc8\">16.3</td>, <td class=\"tc9\">13.5</td>, <td class=\"tc10\">24.3</td>, <td> </td>, <td>16</td>, <td>0</td>, <td>10</td>, <td>16</td>]\n"
     ]
    },
    {
     "name": "stderr",
     "output_type": "stream",
     "text": [
      "\n",
      "\u001b[Acesando meses de 1975:  50%|██████▌      | 6/12 [00:12<00:12,  2.12s/it]"
     ]
    },
    {
     "name": "stdout",
     "output_type": "stream",
     "text": [
      "[<td> </td>, <td class=\"tc2\">24.5</td>, <td class=\"tc3\">30.5</td>, <td class=\"tc4\">18.8</td>, <td class=\"tc5\">1016.1</td>, <td class=\"tc6\">70.1</td>, <td class=\"tc7\"><span>162.55</span></td>, <td class=\"tc8\">15.5</td>, <td class=\"tc9\">11.6</td>, <td class=\"tc10\">20.9</td>, <td> </td>, <td>14</td>, <td>0</td>, <td>13</td>, <td>14</td>]\n"
     ]
    },
    {
     "name": "stderr",
     "output_type": "stream",
     "text": [
      "\n",
      "\u001b[Acesando meses de 1975:  58%|███████▌     | 7/12 [00:14<00:10,  2.14s/it]"
     ]
    },
    {
     "name": "stdout",
     "output_type": "stream",
     "text": [
      "[<td> </td>, <td class=\"tc2\">25</td>, <td class=\"tc3\">31.5</td>, <td class=\"tc4\">19.2</td>, <td class=\"tc5\">1017.4</td>, <td class=\"tc6\">67.1</td>, <td class=\"tc7\"><span>65.03</span></td>, <td class=\"tc8\">15.2</td>, <td class=\"tc9\">12.5</td>, <td class=\"tc10\">22.2</td>, <td> </td>, <td>12</td>, <td>0</td>, <td>3</td>, <td>12</td>]\n"
     ]
    },
    {
     "name": "stderr",
     "output_type": "stream",
     "text": [
      "\n",
      "\u001b[Acesando meses de 1975:  67%|████████▋    | 8/12 [00:17<00:08,  2.14s/it]"
     ]
    },
    {
     "name": "stdout",
     "output_type": "stream",
     "text": [
      "[<td> </td>, <td class=\"tc2\">19.1</td>, <td class=\"tc3\">25</td>, <td class=\"tc4\">13.8</td>, <td class=\"tc5\">1019.7</td>, <td class=\"tc6\">70.5</td>, <td class=\"tc7\"><span>150.87</span></td>, <td class=\"tc8\">16.9</td>, <td class=\"tc9\">14</td>, <td class=\"tc10\">21.9</td>, <td> </td>, <td>20</td>, <td>0</td>, <td>3</td>, <td>13</td>]\n"
     ]
    },
    {
     "name": "stderr",
     "output_type": "stream",
     "text": [
      "\n",
      "\u001b[Acesando meses de 1975:  75%|█████████▊   | 9/12 [00:19<00:06,  2.13s/it]"
     ]
    },
    {
     "name": "stdout",
     "output_type": "stream",
     "text": [
      "[<td> </td>, <td class=\"tc2\">16</td>, <td class=\"tc3\">23.2</td>, <td class=\"tc4\">10.2</td>, <td class=\"tc5\">1019.9</td>, <td class=\"tc6\">70.6</td>, <td class=\"tc7\"><span>103.37</span></td>, <td class=\"tc8\">16.4</td>, <td class=\"tc9\">14.4</td>, <td class=\"tc10\">23.9</td>, <td> </td>, <td>12</td>, <td>0</td>, <td>1</td>, <td>18</td>]\n"
     ]
    },
    {
     "name": "stderr",
     "output_type": "stream",
     "text": [
      "\n",
      "\u001b[Acesando meses de 1975:  83%|██████████  | 10/12 [00:21<00:04,  2.13s/it]"
     ]
    },
    {
     "name": "stdout",
     "output_type": "stream",
     "text": [
      "[<td> </td>, <td class=\"tc2\">11.2</td>, <td class=\"tc3\">17.9</td>, <td class=\"tc4\">4.8</td>, <td class=\"tc5\">1020.3</td>, <td class=\"tc6\">67.2</td>, <td class=\"tc7\"><span>80.02</span></td>, <td class=\"tc8\">17.9</td>, <td class=\"tc9\">13.4</td>, <td class=\"tc10\">23.3</td>, <td> </td>, <td>10</td>, <td>0</td>, <td>2</td>, <td>11</td>]\n"
     ]
    },
    {
     "name": "stderr",
     "output_type": "stream",
     "text": [
      "\n",
      "\u001b[Acesando meses de 1975:  92%|███████████ | 11/12 [00:23<00:02,  2.14s/it]"
     ]
    },
    {
     "name": "stdout",
     "output_type": "stream",
     "text": [
      "[<td> </td>, <td class=\"tc2\">2.9</td>, <td class=\"tc3\">8.7</td>, <td class=\"tc4\">-2.2</td>, <td class=\"tc5\">1021.5</td>, <td class=\"tc6\"><span>67.9</span></td>, <td class=\"tc7\"><span>53.85</span></td>, <td class=\"tc8\">19.9</td>, <td class=\"tc9\">16.6</td>, <td class=\"tc10\">27.1</td>, <td> </td>, <td>13</td>, <td>6</td>, <td>0</td>, <td>11</td>]\n"
     ]
    },
    {
     "name": "stderr",
     "output_type": "stream",
     "text": [
      "\n",
      "\u001b[Acesando meses de 1975: 100%|████████████| 12/12 [00:25<00:00,  2.13s/it]\n",
      "Procesando años:   4%|▊                     | 2/51 [00:51<20:54, 25.60s/it]\n",
      "\u001b[Acesando meses de 1976:   0%|                     | 0/12 [00:00<?, ?it/s]"
     ]
    },
    {
     "name": "stdout",
     "output_type": "stream",
     "text": [
      "[<td> </td>, <td class=\"tc2\">-1.6</td>, <td class=\"tc3\">3.8</td>, <td class=\"tc4\">-6.7</td>, <td class=\"tc5\">1019.5</td>, <td class=\"tc6\"><span>67</span></td>, <td class=\"tc7\"><span>134.6</span></td>, <td class=\"tc8\">22.2</td>, <td class=\"tc9\">18.2</td>, <td class=\"tc10\">29.5</td>, <td> </td>, <td>11</td>, <td>8</td>, <td>0</td>, <td>14</td>]\n"
     ]
    },
    {
     "name": "stderr",
     "output_type": "stream",
     "text": [
      "\n",
      "\u001b[Acesando meses de 1976:   8%|█            | 1/12 [00:02<00:23,  2.11s/it]"
     ]
    },
    {
     "name": "stdout",
     "output_type": "stream",
     "text": [
      "[<td> </td>, <td class=\"tc2\">4.8</td>, <td class=\"tc3\">12.6</td>, <td class=\"tc4\">-2.5</td>, <td class=\"tc5\">1016.7</td>, <td class=\"tc6\">62.3</td>, <td class=\"tc7\">72.89</td>, <td class=\"tc8\">23.9</td>, <td class=\"tc9\">18.3</td>, <td class=\"tc10\">30.2</td>, <td> </td>, <td>9</td>, <td>4</td>, <td>1</td>, <td>8</td>]\n"
     ]
    },
    {
     "name": "stderr",
     "output_type": "stream",
     "text": [
      "\n",
      "\u001b[Acesando meses de 1976:  17%|██▏          | 2/12 [00:04<00:21,  2.14s/it]"
     ]
    },
    {
     "name": "stdout",
     "output_type": "stream",
     "text": [
      "[<td> </td>, <td class=\"tc2\">7.8</td>, <td class=\"tc3\">15.4</td>, <td class=\"tc4\">1.4</td>, <td class=\"tc5\">1018.3</td>, <td class=\"tc6\">60.8</td>, <td class=\"tc7\"><span>59.94</span></td>, <td class=\"tc8\">21.5</td>, <td class=\"tc9\">19.2</td>, <td class=\"tc10\">32</td>, <td> </td>, <td>12</td>, <td>5</td>, <td>1</td>, <td>11</td>]\n"
     ]
    },
    {
     "name": "stderr",
     "output_type": "stream",
     "text": [
      "\n",
      "\u001b[Acesando meses de 1976:  25%|███▎         | 3/12 [00:06<00:19,  2.13s/it]"
     ]
    },
    {
     "name": "stdout",
     "output_type": "stream",
     "text": [
      "[<td> </td>, <td class=\"tc2\">13.5</td>, <td class=\"tc3\">21.3</td>, <td class=\"tc4\">6.2</td>, <td class=\"tc5\">1015.7</td>, <td class=\"tc6\">47.7</td>, <td class=\"tc7\"><span>61.46</span></td>, <td class=\"tc8\">22.3</td>, <td class=\"tc9\">17.4</td>, <td class=\"tc10\">28.9</td>, <td> </td>, <td>14</td>, <td>0</td>, <td>4</td>, <td>3</td>]\n"
     ]
    },
    {
     "name": "stderr",
     "output_type": "stream",
     "text": [
      "\n",
      "\u001b[Acesando meses de 1976:  33%|████▎        | 4/12 [00:08<00:17,  2.13s/it]"
     ]
    },
    {
     "name": "stdout",
     "output_type": "stream",
     "text": [
      "[<td> </td>, <td class=\"tc2\">17</td>, <td class=\"tc3\">24.2</td>, <td class=\"tc4\">10.7</td>, <td class=\"tc5\">1015</td>, <td class=\"tc6\">60.4</td>, <td class=\"tc7\"><span>134.37</span></td>, <td class=\"tc8\">20.5</td>, <td class=\"tc9\">16.5</td>, <td class=\"tc10\">29.2</td>, <td> </td>, <td>17</td>, <td>0</td>, <td>3</td>, <td>8</td>]\n"
     ]
    },
    {
     "name": "stderr",
     "output_type": "stream",
     "text": [
      "\n",
      "\u001b[Acesando meses de 1976:  42%|█████▍       | 5/12 [00:10<00:14,  2.13s/it]"
     ]
    },
    {
     "name": "stdout",
     "output_type": "stream",
     "text": [
      "[<td> </td>, <td class=\"tc2\">23.7</td>, <td class=\"tc3\">30.6</td>, <td class=\"tc4\">17.8</td>, <td class=\"tc5\">1017.5</td>, <td class=\"tc6\">64.7</td>, <td class=\"tc7\"><span>86.87</span></td>, <td class=\"tc8\">17.5</td>, <td class=\"tc9\">15.2</td>, <td class=\"tc10\">26.1</td>, <td> </td>, <td>12</td>, <td>0</td>, <td>6</td>, <td>10</td>]\n"
     ]
    },
    {
     "name": "stderr",
     "output_type": "stream",
     "text": [
      "\n",
      "\u001b[Acesando meses de 1976:  50%|██████▌      | 6/12 [00:12<00:12,  2.12s/it]"
     ]
    },
    {
     "name": "stdout",
     "output_type": "stream",
     "text": [
      "[<td> </td>, <td class=\"tc2\">23.8</td>, <td class=\"tc3\">30</td>, <td class=\"tc4\">18.4</td>, <td class=\"tc5\">1014.1</td>, <td class=\"tc6\">65.6</td>, <td class=\"tc7\"><span>154.43</span></td>, <td class=\"tc8\">15.8</td>, <td class=\"tc9\">13.9</td>, <td class=\"tc10\">24.4</td>, <td> </td>, <td>18</td>, <td>0</td>, <td>9</td>, <td>15</td>]\n"
     ]
    },
    {
     "name": "stderr",
     "output_type": "stream",
     "text": [
      "\n",
      "\u001b[Acesando meses de 1976:  58%|███████▌     | 7/12 [00:14<00:10,  2.16s/it]"
     ]
    },
    {
     "name": "stdout",
     "output_type": "stream",
     "text": [
      "[<td> </td>, <td class=\"tc2\">23.7</td>, <td class=\"tc3\">30.1</td>, <td class=\"tc4\">18.1</td>, <td class=\"tc5\">1018.6</td>, <td class=\"tc6\">67.5</td>, <td class=\"tc7\">85.59</td>, <td class=\"tc8\">15.3</td>, <td class=\"tc9\">13.6</td>, <td class=\"tc10\">24</td>, <td> </td>, <td>9</td>, <td>0</td>, <td>3</td>, <td>17</td>]\n"
     ]
    },
    {
     "name": "stderr",
     "output_type": "stream",
     "text": [
      "\n",
      "\u001b[Acesando meses de 1976:  67%|████████▋    | 8/12 [00:17<00:08,  2.15s/it]"
     ]
    },
    {
     "name": "stdout",
     "output_type": "stream",
     "text": [
      "[<td> </td>, <td class=\"tc2\">19.5</td>, <td class=\"tc3\">26.8</td>, <td class=\"tc4\">12.7</td>, <td class=\"tc5\">1016.8</td>, <td class=\"tc6\">62.6</td>, <td class=\"tc7\">59.94</td>, <td class=\"tc8\">18.4</td>, <td class=\"tc9\">13.4</td>, <td class=\"tc10\">23</td>, <td> </td>, <td>9</td>, <td>0</td>, <td>0</td>, <td>15</td>]\n"
     ]
    },
    {
     "name": "stderr",
     "output_type": "stream",
     "text": [
      "\n",
      "\u001b[Acesando meses de 1976:  75%|█████████▊   | 9/12 [00:19<00:06,  2.14s/it]"
     ]
    },
    {
     "name": "stdout",
     "output_type": "stream",
     "text": [
      "[<td> </td>, <td class=\"tc2\">11.5</td>, <td class=\"tc3\">17.1</td>, <td class=\"tc4\">6.2</td>, <td class=\"tc5\">1017.5</td>, <td class=\"tc6\">60.5</td>, <td class=\"tc7\">146.05</td>, <td class=\"tc8\">20</td>, <td class=\"tc9\">16.1</td>, <td class=\"tc10\">26</td>, <td> </td>, <td>15</td>, <td>0</td>, <td>0</td>, <td>13</td>]\n"
     ]
    },
    {
     "name": "stderr",
     "output_type": "stream",
     "text": [
      "\n",
      "\u001b[Acesando meses de 1976:  83%|██████████  | 10/12 [00:21<00:04,  2.14s/it]"
     ]
    },
    {
     "name": "stdout",
     "output_type": "stream",
     "text": [
      "[<td> </td>, <td class=\"tc2\">4.6</td>, <td class=\"tc3\">11.1</td>, <td class=\"tc4\">-0.9</td>, <td class=\"tc5\">1015.6</td>, <td class=\"tc6\">50.7</td>, <td class=\"tc7\">14.49</td>, <td class=\"tc8\">23.7</td>, <td class=\"tc9\">16</td>, <td class=\"tc10\">27.4</td>, <td> </td>, <td>6</td>, <td>5</td>, <td>0</td>, <td>4</td>]\n"
     ]
    },
    {
     "name": "stderr",
     "output_type": "stream",
     "text": [
      "\n",
      "\u001b[Acesando meses de 1976:  92%|███████████ | 11/12 [00:23<00:02,  2.13s/it]"
     ]
    },
    {
     "name": "stdout",
     "output_type": "stream",
     "text": [
      "[<td> </td>, <td class=\"tc2\">-0.7</td>, <td class=\"tc3\">5.4</td>, <td class=\"tc4\">-6.4</td>, <td class=\"tc5\">1016.6</td>, <td class=\"tc6\">60.8</td>, <td class=\"tc7\"><span>40.63</span></td>, <td class=\"tc8\">23.9</td>, <td class=\"tc9\">16</td>, <td class=\"tc10\">28.9</td>, <td> </td>, <td>8</td>, <td>8</td>, <td>0</td>, <td>10</td>]\n"
     ]
    },
    {
     "name": "stderr",
     "output_type": "stream",
     "text": [
      "\n",
      "\u001b[Acesando meses de 1976: 100%|████████████| 12/12 [00:25<00:00,  2.13s/it]\n",
      "Procesando años:   6%|█▎                    | 3/51 [01:16<20:29, 25.61s/it]\n",
      "\u001b[Acesando meses de 1977:   0%|                     | 0/12 [00:00<?, ?it/s]"
     ]
    },
    {
     "name": "stdout",
     "output_type": "stream",
     "text": [
      "[<td> </td>, <td class=\"tc2\">-6.3</td>, <td class=\"tc3\">-1</td>, <td class=\"tc4\">-11.8</td>, <td class=\"tc5\">1013.6</td>, <td class=\"tc6\"><span>54</span></td>, <td class=\"tc7\"><span>52.57</span></td>, <td class=\"tc8\">22.6</td>, <td class=\"tc9\">19.2</td>, <td class=\"tc10\">31.7</td>, <td> </td>, <td>3</td>, <td>11</td>, <td>0</td>, <td>6</td>]\n"
     ]
    },
    {
     "name": "stderr",
     "output_type": "stream",
     "text": [
      "\n",
      "\u001b[Acesando meses de 1977:   8%|█            | 1/12 [00:02<00:23,  2.12s/it]"
     ]
    },
    {
     "name": "stdout",
     "output_type": "stream",
     "text": [
      "[<td> </td>, <td class=\"tc2\">0.9</td>, <td class=\"tc3\">7.7</td>, <td class=\"tc4\">-5.4</td>, <td class=\"tc5\">1014.9</td>, <td class=\"tc6\">55.5</td>, <td class=\"tc7\"><span>46.48</span></td>, <td class=\"tc8\">22</td>, <td class=\"tc9\">18</td>, <td class=\"tc10\">29.7</td>, <td> </td>, <td>9</td>, <td>5</td>, <td>0</td>, <td>4</td>]\n"
     ]
    },
    {
     "name": "stderr",
     "output_type": "stream",
     "text": [
      "\n",
      "\u001b[Acesando meses de 1977:  17%|██▏          | 2/12 [00:04<00:21,  2.12s/it]"
     ]
    },
    {
     "name": "stdout",
     "output_type": "stream",
     "text": [
      "[<td> </td>, <td class=\"tc2\">9.1</td>, <td class=\"tc3\">16.3</td>, <td class=\"tc4\">2.5</td>, <td class=\"tc5\">1015.8</td>, <td class=\"tc6\"><span>57.4</span></td>, <td class=\"tc7\"><span>120.4</span></td>, <td class=\"tc8\">23.6</td>, <td class=\"tc9\">18.6</td>, <td class=\"tc10\">32.4</td>, <td> </td>, <td>14</td>, <td>0</td>, <td>1</td>, <td>12</td>]\n"
     ]
    }
   ],
   "source": [
    "import requests  # Para hacer peticiones HTTP\n",
    "from bs4 import BeautifulSoup  # Para parsear HTML\n",
    "import pandas as pd  # Para trabajar con DataFrames\n",
    "import time  # Para pausas entre peticiones\n",
    "from tqdm import tqdm  # Para barras de progreso\n",
    "import numpy as np\n",
    "from datetime import datetime\n",
    "import matplotlib.pyplot as plt\n",
    "import seaborn as sns\n",
    "import plotly.graph_objects as go\n",
    "import plotly.express as px\n",
    "from sklearn.linear_model import LinearRegression\n",
    "\n",
    "# Lista para almacenar los datos recopilados de todos los años y meses\n",
    "all_data = []\n",
    "\n",
    "# Definimos el rango de años que queremos analizar\n",
    "start_year = 1974\n",
    "end_year = 2024\n",
    "\n",
    "# ID de la estación meteorológica (tomado de la URL)\n",
    "station_id = \"724080\"\n",
    "\n",
    "# Base de la URL con formato donde cambiaremos año y mes\n",
    "BASE_URL = \"https://www.tutiempo.net/clima/{:02d}-{:d}/ws-{}.html\"\n",
    "\n",
    "# Bucle para recorrer todos los años y meses con barra de progreso\n",
    "for year in tqdm(range(start_year, end_year + 1), desc=\"Procesando años\"):\n",
    "    for month in tqdm(range(1, 13), desc=f\"Procesando meses de {year}\", leave=False):\n",
    "        # Formateamos la URL con el año y mes actual\n",
    "        url = BASE_URL.format(month, year, station_id)\n",
    "\n",
    "        # Hacemos la petición GET a la URL\n",
    "        response = requests.get(url)\n",
    "\n",
    "        # Verificamos si la petición fue exitosa (código 200)\n",
    "        if response.status_code != 200:\n",
    "            print(f\"Error al acceder a {url}\")\n",
    "            continue  # Si hay error, pasamos al siguiente mes\n",
    "\n",
    "        # Parseamos el HTML de la respuesta con BeautifulSoup\n",
    "        soup = BeautifulSoup(response.text, \"html.parser\")\n",
    "\n",
    "        # Buscamos la tabla con las medias mensuales\n",
    "        table = soup.find(\"table\", class_=\"medias\")\n",
    "\n",
    "        # Verificamos si encontramos la tabla\n",
    "        if not table:\n",
    "            print(f\"No se encontró la tabla en {url}\")\n",
    "            continue  # Si no hay tabla, pasamos al siguiente mes\n",
    "\n",
    "        # Buscamos todas las filas de la tabla\n",
    "        rows = table.find_all(\"tr\")\n",
    "\n",
    "        # Verificamos si hay filas en la tabla\n",
    "        if len(rows) == 0:\n",
    "            print(f\"No se encontraron filas en la tabla de {url}\")\n",
    "            continue  # Si no hay filas, pasamos al siguiente mes\n",
    "\n",
    "        # Extraemos los datos relevantes de la última fila (la de las medias)\n",
    "        monthly_data = rows[-1].find_all(\"td\")\n",
    "        print(monthly_data)  # Imprimimos las celdas para verificar\n",
    "\n",
    "        # Verificamos si hay suficientes celdas en la fila\n",
    "        if len(monthly_data) >= 6:\n",
    "            # Extraemos y limpiamos los datos de temperatura media, mínima, máxima y precipitaciones\n",
    "            temp_media = monthly_data[1].text.strip().replace(\"-\", \"\").replace(\"N/D\", \"\")\n",
    "            temp_min = monthly_data[2].text.strip().replace(\"-\", \"\").replace(\"N/D\", \"\")\n",
    "            temp_max = monthly_data[3].text.strip().replace(\"-\", \"\").replace(\"N/D\", \"\")\n",
    "            precip = monthly_data[4].text.strip().replace(\"-\", \"\").replace(\"N/D\", \"\")\n",
    "\n",
    "            # Agregamos los datos a la lista all_data\n",
    "            all_data.append([year, month, temp_media, temp_min, temp_max, precip])\n",
    "\n",
    "        # Pausa de 2 segundos para no sobrecargar el servidor\n",
    "        time.sleep(2)\n",
    "\n",
    "# Convertimos la lista en un DataFrame de Pandas\n",
    "df = pd.DataFrame(all_data, columns=[\"Ano\", \"Mes\", \"Temp Media\", \"Temp Minima\", \"Temp Maxima\", \"Precipitaciones Totales\"])\n",
    "\n",
    "# Imprimimos el DataFrame resultante\n",
    "print(df)\n"
   ]
  },
  {
   "cell_type": "code",
   "execution_count": null,
   "id": "6fe5f78c-99b2-48b4-8d6c-5e9d623a643c",
   "metadata": {},
   "outputs": [],
   "source": [
    "print(df.dtypes)"
   ]
  },
  {
   "cell_type": "code",
   "execution_count": null,
   "id": "51118cea-e0d0-4332-842d-a05f2eb635d1",
   "metadata": {},
   "outputs": [],
   "source": [
    "# --- Limpieza y Preparación de Datos ---\n",
    "\n",
    "# 1. Eliminar duplicados\n",
    "df.drop_duplicates(inplace=True)\n",
    "print(\"Registros duplicados eliminados.\")\n",
    "\n",
    "# 2. Convertir columnas a numérico y manejar NaN\n",
    "for col in [\"Temp Media\", \"Temp Minima\", \"Temp Maxima\", \"Precipitaciones Totales\"]:\n",
    "    df[col] = pd.to_numeric(df[col], errors='coerce')\n",
    "print(\"Columnas convertidas a numérico, valores no válidos convertidos a NaN.\")\n",
    "\n",
    "# 3. Rellenar valores faltantes con la media mensual\n",
    "for col in [\"Temp Media\", \"Temp Minima\", \"Temp Maxima\", \"Precipitaciones Totales\"]:\n",
    "    df[col] = df.groupby(\"Mes\")[col].transform(lambda x: x.fillna(x.mean()))\n",
    "print(\"Valores NaN rellenados con la media mensual.\")\n",
    "\n",
    "# 4. Manejo de Outliers (ejemplo básico - podrías necesitar algo más sofisticado)\n",
    "for col in [\"Temp Media\", \"Temp Minima\", \"Temp Maxima\", \"Precipitaciones Totales\"]:\n",
    "    mean = df[col].mean()\n",
    "    std = df[col].std()\n",
    "    df = df[np.abs(df[col] - mean) <= (3 * std)]  # Elimina outliers a 3 desviaciones estándar\n",
    "print(\"Outliers eliminados (usando 3 desviaciones estándar).\")\n",
    "\n",
    "# 5. Agregar índices temporales (Fecha)\n",
    "df[\"Fecha\"] = pd.to_datetime(df[\"Ano\"].astype(str) + \"-\" + df[\"Mes\"].astype(str), format=\"%Y-%m\")\n",
    "print(\"Columna 'Fecha' agregada.\")\n",
    "\n",
    "# 6. Reordenar columnas\n",
    "df = df[[\"Fecha\", \"Ano\", \"Mes\", \"Temp Media\", \"Temp Minima\", \"Temp Maxima\", \"Precipitaciones Totales\"]]\n",
    "print(\"Columnas reordenadas.\")\n",
    "\n",
    "# --- Fin de Limpieza y Preparación de Datos ---"
   ]
  },
  {
   "cell_type": "code",
   "execution_count": null,
   "id": "51152af1-4057-4370-abe5-c598f50c1801",
   "metadata": {},
   "outputs": [],
   "source": [
    "# Guardar el DataFrame limpio en un archivo CSV\n",
    "now = datetime.now()\n",
    "timestamp = now.strftime(\"%Y%m%d_%H%M%S\")\n",
    "filename = f\"datos_climaticos_limpios_{timestamp}.csv\"\n",
    "df.to_csv(filename, index=False, sep=\",\")  # Asegurarse de separar las columnas por comas\n",
    "\n",
    "print(f\"✅ Archivo CSV limpio generado exitosamente: {filename}\")"
   ]
  },
  {
   "cell_type": "code",
   "execution_count": null,
   "id": "358d9c59-0ef6-4397-8b8b-008c40033e0f",
   "metadata": {},
   "outputs": [],
   "source": [
    "print(df.dtypes)"
   ]
  },
  {
   "cell_type": "code",
   "execution_count": null,
   "id": "8ac45c56-7b3c-48f2-a635-dd395561f9f1",
   "metadata": {},
   "outputs": [],
   "source": [
    "# --- 1. Gráfico de series temporales con Matplotlib ---\n",
    "plt.figure(figsize=(10, 6))\n",
    "\n",
    "plt.plot(df['Fecha'], df['Temp Media'], label='Temperatura Media', color='orange')\n",
    "plt.plot(df['Fecha'], df['Temp Maxima'], label='Temperatura Maxima', color='red')\n",
    "plt.plot(df['Fecha'], df['Temp Minima'], label='Temperatura Minima', color='blue')\n",
    "\n",
    "plt.title('Gráfico de Series Temporales - Matplotlib')\n",
    "plt.xlabel('Fecha')\n",
    "plt.ylabel('Valores')\n",
    "plt.legend()\n",
    "plt.xticks(rotation=45)\n",
    "plt.tight_layout()\n",
    "plt.show()"
   ]
  },
  {
   "cell_type": "code",
   "execution_count": null,
   "id": "eaf71704-f82e-4734-b340-9a67cd183b01",
   "metadata": {},
   "outputs": [],
   "source": [
    "# --- 2. Gráfico de series temporales con Plotly ---\n",
    "fig = go.Figure()\n",
    "fig.add_trace(go.Scatter(x=df['Fecha'], y=df['Temp Media'], mode='lines', name='Temperatura Media', line=dict(color='orange')))\n",
    "fig.add_trace(go.Scatter(x=df['Fecha'], y=df['Temp Minima'], mode='lines', name='Temperatura Minima', line=dict(color='blue')))\n",
    "fig.add_trace(go.Scatter(x=df['Fecha'], y=df['Temp Maxima'], mode='lines', name='Temperatura Maxima', line=dict(color='red')))\n",
    "fig.update_layout(\n",
    "    title='Gráfico de Series Temporales - Plotly',\n",
    "    xaxis_title='Fecha',\n",
    "    yaxis_title='Valores',\n",
    "    template='plotly_dark'\n",
    ")\n",
    "fig.show()"
   ]
  },
  {
   "cell_type": "code",
   "execution_count": null,
   "id": "425c3159-dd63-4dfb-a5e6-a28ec2582e5d",
   "metadata": {},
   "outputs": [],
   "source": [
    "# Filtrar solo los registros correspondientes a agosto de todos los años\n",
    "df_agosto = df[df['Mes'] == 8]\n",
    "\n",
    "# --- 3. Boxplot mensual con Seaborn ---\n",
    "plt.figure(figsize=(10, 6))\n",
    "sns.boxplot(data=df_agosto, x='Ano', y='Temp Media')\n",
    "plt.title('Boxplot de Temperaturas en Agosto de Todos los Años')\n",
    "plt.xlabel('Ano')\n",
    "plt.ylabel('Temperatura Media (°C)')\n",
    "plt.tight_layout()\n",
    "plt.show()"
   ]
  },
  {
   "cell_type": "code",
   "execution_count": null,
   "id": "4a2bf4d2-b02f-4892-8d16-9868f0852464",
   "metadata": {},
   "outputs": [],
   "source": [
    "# Filtrar solo los registros correspondientes a agosto de todos los años\n",
    "df_agosto = df[df['Mes'] == 8]\n",
    "\n",
    "# --- 4. Boxplot mensual con Plotly ---\n",
    "fig = px.box(df_agosto, x=\"Ano\", y=\"Temp Media\", title=\"Boxplot de Temperaturas en Agosto de Todos los Años\",\n",
    "             labels={\"Temp Media\": \"Temperatura Media (°C)\", \"Ano\": \"Año\"})\n",
    "fig.show()"
   ]
  },
  {
   "cell_type": "code",
   "execution_count": null,
   "id": "b8cb63ab-bda8-4b4b-a0ed-e0f7bf687ab0",
   "metadata": {},
   "outputs": [],
   "source": [
    "# --- 5. Análisis de valores atípicos en agosto con Matplotlib ---\n",
    "august_data = df[df['Mes'] == 8]\n",
    "plt.figure(figsize=(10, 6))\n",
    "sns.boxplot(august_data['Temp Media'])\n",
    "plt.title('Valores Atípicos de Temperatura en Agosto - Matplotlib')\n",
    "plt.ylabel('Temperatura Media (°C)')\n",
    "plt.tight_layout()\n",
    "plt.show()\n",
    "\n",
    "# --- 6. Análisis de valores atípicos en agosto con Plotly ---\n",
    "fig = px.box(august_data, y=\"Temp Media\", title=\"Valores Atípicos de Temperatura en Agosto - Plotly\",\n",
    "             labels={\"Temp Media\": \"Temperatura Media (°C)\"})\n",
    "fig.show()"
   ]
  },
  {
   "cell_type": "code",
   "execution_count": null,
   "id": "438d5d17-0308-4903-b3fd-15de6fbcec8c",
   "metadata": {},
   "outputs": [],
   "source": [
    "# Convertir 'Fecha' a datetime y luego a timestamp numérico\n",
    "df['Fecha'] = pd.to_datetime(df['Fecha'])\n",
    "df['Fecha_num'] = (df['Fecha'] - pd.to_datetime('1970-01-01')).dt.total_seconds() #convertimos a segundos desde 1970.\n",
    "\n",
    "# Convertir 'Temp Media' a numérico, manejando posibles errores\n",
    "df['Temp Media'] = pd.to_numeric(df['Temp Media'], errors='coerce')\n",
    "df = df.dropna(subset=['Temp Media', 'Fecha_num']) #eliminamos los valores nulos.\n",
    "\n",
    "# --- 7. Regresión lineal con Matplotlib ---\n",
    "X = df[['Fecha_num']]  # Variable independiente (numérica)\n",
    "y = df['Temp Media']  # Variable dependiente\n",
    "\n",
    "model = LinearRegression()\n",
    "model.fit(X, y)\n",
    "\n",
    "y_pred = model.predict(X)\n",
    "\n",
    "plt.figure(figsize=(10, 6))\n",
    "plt.scatter(df['Fecha'], y, label='Temperatura Media Real', color='orange')\n",
    "plt.plot(df['Fecha'], y_pred, color='red', label='Regresión Lineal')\n",
    "plt.title('Regresión Lineal de Temperatura Media - Matplotlib')\n",
    "plt.xlabel('Fecha')\n",
    "plt.ylabel('Temperatura Media (°C)')\n",
    "plt.legend()\n",
    "plt.xticks(rotation=45)\n",
    "plt.tight_layout()\n",
    "plt.show()"
   ]
  },
  {
   "cell_type": "code",
   "execution_count": null,
   "id": "252af17c-8c82-4f0a-bb75-6f33915a645e",
   "metadata": {},
   "outputs": [],
   "source": [
    "# --- 8. Regresión lineal con Plotly ---\n",
    "fig = go.Figure()\n",
    "fig.add_trace(go.Scatter(x=df['Fecha'], y=df['Temp Media'], mode='markers', name='Datos Reales', marker=dict(color='orange')))\n",
    "fig.add_trace(go.Scatter(x=df['Fecha'], y=y_pred, mode='lines', name='Regresión Lineal', line=dict(color='red')))\n",
    "fig.update_layout(\n",
    "    title='Regresión Lineal de Temperatura Media - Plotly',\n",
    "    xaxis_title='Fecha',\n",
    "    yaxis_title='Temperatura Media (°C)',\n",
    "    template='plotly_dark'\n",
    ")\n",
    "fig.show()"
   ]
  },
  {
   "cell_type": "code",
   "execution_count": null,
   "id": "91b58081-e3aa-44a6-8356-961a547d75f5",
   "metadata": {},
   "outputs": [],
   "source": [
    "# Limpiar y convertir los tipos de datos\n",
    "df['Temp Media'] = pd.to_numeric(df['Temp Media'], errors='coerce')\n",
    "df = df.dropna(subset=['Temp Media'])\n",
    "df['Ano'] = df['Ano'].astype(int)\n",
    "df['Mes'] = df['Mes'].astype(int)\n",
    "\n",
    "# --- 9. Heatmap mensual-anual con Seaborn ---\n",
    "pivot = df.pivot_table(values='Temp Media', index='Ano', columns='Mes', aggfunc='mean')\n",
    "plt.figure(figsize=(10, 6))\n",
    "sns.heatmap(pivot, annot=True, fmt=\".1f\", cmap='icefire', cbar_kws={'label': 'Temperatura Media (°C)'})\n",
    "plt.title('Heatmap de Temperatura Media Mensual-Anual - Seaborn')\n",
    "plt.xlabel('Mes')\n",
    "plt.ylabel('Año')\n",
    "plt.tight_layout()\n",
    "plt.show()\n",
    "\n",
    "# --- 10. Heatmap mensual-anual con Plotly ---\n",
    "fig = px.imshow(pivot, color_continuous_scale='icefire', title='Heatmap de Temperatura Media Mensual-Anual - Plotly')\n",
    "fig.show()"
   ]
  },
  {
   "cell_type": "code",
   "execution_count": null,
   "id": "4e27dc84-620a-447b-96ea-d2a01c42c162",
   "metadata": {},
   "outputs": [],
   "source": [
    "# Verificar y convertir tipos de datos\n",
    "df['Temp Media'] = pd.to_numeric(df['Temp Media'], errors='coerce')\n",
    "df['Temp Minima'] = pd.to_numeric(df['Temp Minima'], errors='coerce')\n",
    "df['Temp Maxima'] = pd.to_numeric(df['Temp Maxima'], errors='coerce')\n",
    "df['Precipitaciones Totales'] = pd.to_numeric(df['Precipitaciones Totales'], errors='coerce')\n",
    "df = df.dropna(subset=['Temp Media', 'Temp Minima', 'Temp Maxima', 'Precipitaciones Totales'])\n",
    "\n",
    "# --- 11. Correlación entre variables con Seaborn ---\n",
    "correlation_matrix = df[['Temp Media', 'Temp Minima', 'Temp Maxima', 'Precipitaciones Totales']].corr()\n",
    "plt.figure(figsize=(8, 6))\n",
    "sns.heatmap(correlation_matrix, annot=True, cmap='icefire', fmt='.2f', cbar_kws={'label': 'Correlación'})\n",
    "plt.title('Matriz de Correlación entre Variables - Seaborn')\n",
    "plt.tight_layout()\n",
    "plt.show()\n",
    "\n",
    "# --- 12. Correlación entre variables con Plotly ---\n",
    "fig = px.imshow(correlation_matrix, text_auto=True, color_continuous_scale='icefire',\n",
    "                title='Matriz de Correlación entre Variables - Plotly')\n",
    "fig.show()"
   ]
  },
  {
   "cell_type": "code",
   "execution_count": null,
   "id": "a789a80a-aed1-43d6-a753-d13c03b87553",
   "metadata": {},
   "outputs": [],
   "source": [
    "# --- 13. Cambios estacionales con Seaborn ---\n",
    "monthly_avg_temp = df.groupby('Mes')['Temp Media'].mean()\n",
    "plt.figure(figsize=(10, 6))\n",
    "monthly_avg_temp.plot(kind='bar', color='tab:orange')\n",
    "plt.title('Promedio de Temperatura Media por Mes (Cambios Estacionales) - Seaborn')\n",
    "plt.xlabel('Mes')\n",
    "plt.ylabel('Temperatura Media (°C)')\n",
    "plt.xticks(rotation=45)\n",
    "plt.tight_layout()\n",
    "plt.show()\n",
    "\n",
    "# --- 14. Cambios estacionales con Plotly ---\n",
    "fig = px.bar(monthly_avg_temp, title='Promedio de Temperatura Media por Mes (Cambios Estacionales) - Plotly', labels={\"value\": \"Temperatura Media (°C)\", \"index\": \"Mes\"})\n",
    "fig.show()"
   ]
  },
  {
   "cell_type": "code",
   "execution_count": null,
   "id": "b2f631d3-ce38-4140-801e-6558b89ccf23",
   "metadata": {},
   "outputs": [],
   "source": []
  }
 ],
 "metadata": {
  "kernelspec": {
   "display_name": "Python 3 (ipykernel)",
   "language": "python",
   "name": "python3"
  },
  "language_info": {
   "codemirror_mode": {
    "name": "ipython",
    "version": 3
   },
   "file_extension": ".py",
   "mimetype": "text/x-python",
   "name": "python",
   "nbconvert_exporter": "python",
   "pygments_lexer": "ipython3",
   "version": "3.13.2"
  }
 },
 "nbformat": 4,
 "nbformat_minor": 5
}
